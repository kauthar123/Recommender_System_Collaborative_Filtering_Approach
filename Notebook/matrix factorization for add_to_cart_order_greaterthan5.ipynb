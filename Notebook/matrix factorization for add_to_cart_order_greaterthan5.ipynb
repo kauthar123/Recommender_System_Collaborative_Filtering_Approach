{
 "cells": [
  {
   "cell_type": "code",
   "execution_count": 1,
   "id": "6d0748ca-e733-4800-af76-79e010259676",
   "metadata": {},
   "outputs": [],
   "source": [
    "import numpy as np\n",
    "import pandas as pd"
   ]
  },
  {
   "cell_type": "code",
   "execution_count": 7,
   "id": "e37ed382-49f2-49f7-86be-469d3ddae223",
   "metadata": {},
   "outputs": [
    {
     "data": {
      "text/html": [
       "<div>\n",
       "<style scoped>\n",
       "    .dataframe tbody tr th:only-of-type {\n",
       "        vertical-align: middle;\n",
       "    }\n",
       "\n",
       "    .dataframe tbody tr th {\n",
       "        vertical-align: top;\n",
       "    }\n",
       "\n",
       "    .dataframe thead th {\n",
       "        text-align: right;\n",
       "    }\n",
       "</style>\n",
       "<table border=\"1\" class=\"dataframe\">\n",
       "  <thead>\n",
       "    <tr style=\"text-align: right;\">\n",
       "      <th></th>\n",
       "      <th>order_id</th>\n",
       "      <th>product_id</th>\n",
       "      <th>add_to_cart_order</th>\n",
       "      <th>reordered</th>\n",
       "      <th>user_id</th>\n",
       "      <th>eval_set</th>\n",
       "      <th>order_number</th>\n",
       "      <th>order_dow</th>\n",
       "      <th>order_hour_of_day</th>\n",
       "      <th>days_since_prior_order</th>\n",
       "      <th>product_name</th>\n",
       "      <th>aisle_id</th>\n",
       "      <th>department_id</th>\n",
       "      <th>aisle</th>\n",
       "      <th>department</th>\n",
       "    </tr>\n",
       "  </thead>\n",
       "  <tbody>\n",
       "    <tr>\n",
       "      <th>0</th>\n",
       "      <td>2</td>\n",
       "      <td>33120</td>\n",
       "      <td>1</td>\n",
       "      <td>1</td>\n",
       "      <td>202279</td>\n",
       "      <td>prior</td>\n",
       "      <td>3</td>\n",
       "      <td>5</td>\n",
       "      <td>9</td>\n",
       "      <td>8.0</td>\n",
       "      <td>Organic Egg Whites</td>\n",
       "      <td>86</td>\n",
       "      <td>16</td>\n",
       "      <td>eggs</td>\n",
       "      <td>dairy eggs</td>\n",
       "    </tr>\n",
       "    <tr>\n",
       "      <th>1</th>\n",
       "      <td>2</td>\n",
       "      <td>28985</td>\n",
       "      <td>2</td>\n",
       "      <td>1</td>\n",
       "      <td>202279</td>\n",
       "      <td>prior</td>\n",
       "      <td>3</td>\n",
       "      <td>5</td>\n",
       "      <td>9</td>\n",
       "      <td>8.0</td>\n",
       "      <td>Michigan Organic Kale</td>\n",
       "      <td>83</td>\n",
       "      <td>4</td>\n",
       "      <td>fresh vegetables</td>\n",
       "      <td>produce</td>\n",
       "    </tr>\n",
       "    <tr>\n",
       "      <th>2</th>\n",
       "      <td>2</td>\n",
       "      <td>9327</td>\n",
       "      <td>3</td>\n",
       "      <td>0</td>\n",
       "      <td>202279</td>\n",
       "      <td>prior</td>\n",
       "      <td>3</td>\n",
       "      <td>5</td>\n",
       "      <td>9</td>\n",
       "      <td>8.0</td>\n",
       "      <td>Garlic Powder</td>\n",
       "      <td>104</td>\n",
       "      <td>13</td>\n",
       "      <td>spices seasonings</td>\n",
       "      <td>pantry</td>\n",
       "    </tr>\n",
       "    <tr>\n",
       "      <th>3</th>\n",
       "      <td>2</td>\n",
       "      <td>45918</td>\n",
       "      <td>4</td>\n",
       "      <td>1</td>\n",
       "      <td>202279</td>\n",
       "      <td>prior</td>\n",
       "      <td>3</td>\n",
       "      <td>5</td>\n",
       "      <td>9</td>\n",
       "      <td>8.0</td>\n",
       "      <td>Coconut Butter</td>\n",
       "      <td>19</td>\n",
       "      <td>13</td>\n",
       "      <td>oils vinegars</td>\n",
       "      <td>pantry</td>\n",
       "    </tr>\n",
       "    <tr>\n",
       "      <th>4</th>\n",
       "      <td>2</td>\n",
       "      <td>30035</td>\n",
       "      <td>5</td>\n",
       "      <td>0</td>\n",
       "      <td>202279</td>\n",
       "      <td>prior</td>\n",
       "      <td>3</td>\n",
       "      <td>5</td>\n",
       "      <td>9</td>\n",
       "      <td>8.0</td>\n",
       "      <td>Natural Sweetener</td>\n",
       "      <td>17</td>\n",
       "      <td>13</td>\n",
       "      <td>baking ingredients</td>\n",
       "      <td>pantry</td>\n",
       "    </tr>\n",
       "  </tbody>\n",
       "</table>\n",
       "</div>"
      ],
      "text/plain": [
       "   order_id  product_id  add_to_cart_order  reordered  user_id eval_set  \\\n",
       "0         2       33120                  1          1   202279    prior   \n",
       "1         2       28985                  2          1   202279    prior   \n",
       "2         2        9327                  3          0   202279    prior   \n",
       "3         2       45918                  4          1   202279    prior   \n",
       "4         2       30035                  5          0   202279    prior   \n",
       "\n",
       "   order_number  order_dow  order_hour_of_day  days_since_prior_order  \\\n",
       "0             3          5                  9                     8.0   \n",
       "1             3          5                  9                     8.0   \n",
       "2             3          5                  9                     8.0   \n",
       "3             3          5                  9                     8.0   \n",
       "4             3          5                  9                     8.0   \n",
       "\n",
       "            product_name  aisle_id  department_id               aisle  \\\n",
       "0     Organic Egg Whites        86             16                eggs   \n",
       "1  Michigan Organic Kale        83              4    fresh vegetables   \n",
       "2          Garlic Powder       104             13   spices seasonings   \n",
       "3         Coconut Butter        19             13       oils vinegars   \n",
       "4      Natural Sweetener        17             13  baking ingredients   \n",
       "\n",
       "   department  \n",
       "0  dairy eggs  \n",
       "1     produce  \n",
       "2      pantry  \n",
       "3      pantry  \n",
       "4      pantry  "
      ]
     },
     "execution_count": 7,
     "metadata": {},
     "output_type": "execute_result"
    }
   ],
   "source": [
    "data= pd.read_csv('C:\\\\Users\\\\Admin\\\\Downloads\\\\DW_Retail dataset\\\\DW_Retail dataset\\\\merged_data.csv')\n",
    "data.head()"
   ]
  },
  {
   "cell_type": "code",
   "execution_count": 9,
   "id": "dd094310-5a2c-4b61-a3e0-1e1b299e14af",
   "metadata": {},
   "outputs": [],
   "source": [
    "# Filter for add_to_cart_order < 5\n",
    "df = data[data['add_to_cart_order'] < 5]"
   ]
  },
  {
   "cell_type": "code",
   "execution_count": 11,
   "id": "0e0284af-043b-4f46-8cdc-86f1a3b3aa1e",
   "metadata": {},
   "outputs": [
    {
     "name": "stderr",
     "output_type": "stream",
     "text": [
      "C:\\Users\\Admin\\AppData\\Local\\Temp\\ipykernel_23696\\1925879585.py:6: SettingWithCopyWarning: \n",
      "A value is trying to be set on a copy of a slice from a DataFrame.\n",
      "Try using .loc[row_indexer,col_indexer] = value instead\n",
      "\n",
      "See the caveats in the documentation: https://pandas.pydata.org/pandas-docs/stable/user_guide/indexing.html#returning-a-view-versus-a-copy\n",
      "  df['user_idx'] = df['user_id'].map(user_map)\n",
      "C:\\Users\\Admin\\AppData\\Local\\Temp\\ipykernel_23696\\1925879585.py:7: SettingWithCopyWarning: \n",
      "A value is trying to be set on a copy of a slice from a DataFrame.\n",
      "Try using .loc[row_indexer,col_indexer] = value instead\n",
      "\n",
      "See the caveats in the documentation: https://pandas.pydata.org/pandas-docs/stable/user_guide/indexing.html#returning-a-view-versus-a-copy\n",
      "  df['product_idx'] = df['product_id'].map(product_map)\n"
     ]
    }
   ],
   "source": [
    "\n",
    "# Encode users and products to integer indices for matrix representation\n",
    "user_ids = df['user_id'].unique()\n",
    "product_ids = df['product_id'].unique()\n",
    "user_map = {id: idx for idx, id in enumerate(user_ids)}\n",
    "product_map = {id: idx for idx, id in enumerate(product_ids)}\n",
    "df['user_idx'] = df['user_id'].map(user_map)\n",
    "df['product_idx'] = df['product_id'].map(product_map)"
   ]
  },
  {
   "cell_type": "code",
   "execution_count": 15,
   "id": "32c32d3c-4de7-4367-a9e4-43ee140848a0",
   "metadata": {},
   "outputs": [
    {
     "data": {
      "text/plain": [
       "(0    0\n",
       " 1    0\n",
       " 2    0\n",
       " 3    0\n",
       " 9    1\n",
       " Name: user_idx, dtype: int64,\n",
       " 0    0\n",
       " 1    1\n",
       " 2    2\n",
       " 3    3\n",
       " 9    4\n",
       " Name: product_idx, dtype: int64)"
      ]
     },
     "execution_count": 15,
     "metadata": {},
     "output_type": "execute_result"
    }
   ],
   "source": [
    "df['user_idx'].head(),df['product_idx'].head()"
   ]
  },
  {
   "cell_type": "code",
   "execution_count": 17,
   "id": "2c9d6749-8eb8-41f1-abae-8cafdc4b6757",
   "metadata": {},
   "outputs": [
    {
     "name": "stderr",
     "output_type": "stream",
     "text": [
      "C:\\Users\\Admin\\AppData\\Local\\Temp\\ipykernel_23696\\722300811.py:27: RuntimeWarning: overflow encountered in multiply\n",
      "  item_matrix[i] += lr * (error * user_matrix[u] - reg * item_matrix[i])\n",
      "C:\\Users\\Admin\\AppData\\Local\\Temp\\ipykernel_23696\\722300811.py:26: RuntimeWarning: overflow encountered in multiply\n",
      "  user_matrix[u] += lr * (error * item_matrix[i] - reg * user_matrix[u])\n"
     ]
    },
    {
     "name": "stdout",
     "output_type": "stream",
     "text": [
      "Epoch 1/50, Loss: nan\n",
      "Epoch 2/50, Loss: nan\n"
     ]
    },
    {
     "ename": "KeyboardInterrupt",
     "evalue": "",
     "output_type": "error",
     "traceback": [
      "\u001b[1;31m---------------------------------------------------------------------------\u001b[0m",
      "\u001b[1;31mKeyboardInterrupt\u001b[0m                         Traceback (most recent call last)",
      "Cell \u001b[1;32mIn[17], line 36\u001b[0m\n\u001b[0;32m     34\u001b[0m     rating \u001b[38;5;241m=\u001b[39m row[\u001b[38;5;124m'\u001b[39m\u001b[38;5;124madd_to_cart_order\u001b[39m\u001b[38;5;124m'\u001b[39m]\n\u001b[0;32m     35\u001b[0m     pred \u001b[38;5;241m=\u001b[39m np\u001b[38;5;241m.\u001b[39mdot(user_matrix[u], item_matrix[i])\n\u001b[1;32m---> 36\u001b[0m     loss \u001b[38;5;241m+\u001b[39m\u001b[38;5;241m=\u001b[39m (rating \u001b[38;5;241m-\u001b[39m pred) \u001b[38;5;241m*\u001b[39m\u001b[38;5;241m*\u001b[39m \u001b[38;5;241m2\u001b[39m \u001b[38;5;241m+\u001b[39m reg \u001b[38;5;241m*\u001b[39m (np\u001b[38;5;241m.\u001b[39mlinalg\u001b[38;5;241m.\u001b[39mnorm(user_matrix[u]) \u001b[38;5;241m+\u001b[39m np\u001b[38;5;241m.\u001b[39mlinalg\u001b[38;5;241m.\u001b[39mnorm(item_matrix[i]))\n\u001b[0;32m     38\u001b[0m \u001b[38;5;28mprint\u001b[39m(\u001b[38;5;124mf\u001b[39m\u001b[38;5;124m\"\u001b[39m\u001b[38;5;124mEpoch \u001b[39m\u001b[38;5;132;01m{\u001b[39;00mepoch\u001b[38;5;241m+\u001b[39m\u001b[38;5;241m1\u001b[39m\u001b[38;5;132;01m}\u001b[39;00m\u001b[38;5;124m/\u001b[39m\u001b[38;5;132;01m{\u001b[39;00mn_epochs\u001b[38;5;132;01m}\u001b[39;00m\u001b[38;5;124m, Loss: \u001b[39m\u001b[38;5;132;01m{\u001b[39;00mloss\u001b[38;5;132;01m}\u001b[39;00m\u001b[38;5;124m\"\u001b[39m)\n",
      "File \u001b[1;32m~\\anaconda3\\Lib\\site-packages\\numpy\\linalg\\linalg.py:2552\u001b[0m, in \u001b[0;36mnorm\u001b[1;34m(x, ord, axis, keepdims)\u001b[0m\n\u001b[0;32m   2550\u001b[0m     sqnorm \u001b[38;5;241m=\u001b[39m x_real\u001b[38;5;241m.\u001b[39mdot(x_real) \u001b[38;5;241m+\u001b[39m x_imag\u001b[38;5;241m.\u001b[39mdot(x_imag)\n\u001b[0;32m   2551\u001b[0m \u001b[38;5;28;01melse\u001b[39;00m:\n\u001b[1;32m-> 2552\u001b[0m     sqnorm \u001b[38;5;241m=\u001b[39m x\u001b[38;5;241m.\u001b[39mdot(x)\n\u001b[0;32m   2553\u001b[0m ret \u001b[38;5;241m=\u001b[39m sqrt(sqnorm)\n\u001b[0;32m   2554\u001b[0m \u001b[38;5;28;01mif\u001b[39;00m keepdims:\n",
      "\u001b[1;31mKeyboardInterrupt\u001b[0m: "
     ]
    }
   ],
   "source": [
    "# Define model parameters\n",
    "n_users, n_items = len(user_ids), len(product_ids)\n",
    "n_factors = 10  # Number of latent factors\n",
    "lr = 0.01  # Learning rate\n",
    "n_epochs = 50  # Number of training epochs\n",
    "reg = 0.01  # Regularization term to prevent overfitting\n",
    "\n",
    "# Initialize user and item matrices with random values\n",
    "user_matrix = np.random.normal(scale=1./n_factors, size=(n_users, n_factors))\n",
    "item_matrix = np.random.normal(scale=1./n_factors, size=(n_items, n_factors))\n",
    "\n",
    "# Training with Stochastic Gradient Descent (SGD)\n",
    "for epoch in range(n_epochs):\n",
    "    for _, row in df.iterrows():\n",
    "        u = row['user_idx']\n",
    "        i = row['product_idx']\n",
    "        rating = row['add_to_cart_order']\n",
    "        \n",
    "        # Predicted rating\n",
    "        pred = np.dot(user_matrix[u], item_matrix[i])\n",
    "        \n",
    "        # Error\n",
    "        error = rating - pred\n",
    "        \n",
    "        # Update user and item latent factors\n",
    "        user_matrix[u] += lr * (error * item_matrix[i] - reg * user_matrix[u])\n",
    "        item_matrix[i] += lr * (error * user_matrix[u] - reg * item_matrix[i])\n",
    "    \n",
    "    # Calculate loss\n",
    "    loss = 0\n",
    "    for _, row in df.iterrows():\n",
    "        u = row['user_idx']\n",
    "        i = row['product_idx']\n",
    "        rating = row['add_to_cart_order']\n",
    "        pred = np.dot(user_matrix[u], item_matrix[i])\n",
    "        loss += (rating - pred) ** 2 + reg * (np.linalg.norm(user_matrix[u]) + np.linalg.norm(item_matrix[i]))\n",
    "    \n",
    "    print(f\"Epoch {epoch+1}/{n_epochs}, Loss: {loss}\")\n",
    "\n",
    "\n"
   ]
  },
  {
   "cell_type": "code",
   "execution_count": 19,
   "id": "6bb9e3dd-c94d-433f-b209-ee3236ad0f78",
   "metadata": {},
   "outputs": [
    {
     "name": "stdout",
     "output_type": "stream",
     "text": [
      "Prediction (user 41658 for product 9550): nan\n",
      "Top recommendations for user 41658: [33120, 19947, 7573]\n"
     ]
    }
   ],
   "source": [
    "# Function to predict for a given user and product\n",
    "def predict(user_id, product_id):\n",
    "    u = user_map.get(user_id)\n",
    "    i = product_map.get(product_id)\n",
    "    if u is None or i is None:\n",
    "        return \"User or product not found.\"\n",
    "    return np.dot(user_matrix[u], item_matrix[i])\n",
    "\n",
    "# Example prediction for a specific user and product\n",
    "user_id = 41658\n",
    "product_id = 9550\n",
    "prediction = predict(user_id, product_id)\n",
    "print(f\"Prediction (user {user_id} for product {product_id}): {prediction}\")\n",
    "\n",
    "# Generate recommendations\n",
    "def recommend(user_id, n_recommendations=5):\n",
    "    u = user_map.get(user_id)\n",
    "    if u is None:\n",
    "        return \"User not found.\"\n",
    "    scores = np.dot(user_matrix[u], item_matrix.T)\n",
    "    product_indices = np.argsort(-scores)[:n_recommendations]\n",
    "    recommended_products = [product_ids[i] for i in product_indices]\n",
    "    return recommended_products\n",
    "\n",
    "# Example recommendation for a specific user\n",
    "user_id = 41658\n",
    "recommendations = recommend(user_id, n_recommendations=3)\n",
    "print(f\"Top recommendations for user {user_id}: {recommendations}\")"
   ]
  },
  {
   "cell_type": "code",
   "execution_count": null,
   "id": "e00b5c0d-a1a8-491f-993c-7006136ec15a",
   "metadata": {},
   "outputs": [],
   "source": []
  },
  {
   "cell_type": "code",
   "execution_count": null,
   "id": "03f9afcb-d2f5-48d5-8b83-b544faf4f877",
   "metadata": {},
   "outputs": [],
   "source": []
  }
 ],
 "metadata": {
  "kernelspec": {
   "display_name": "Python 3 (ipykernel)",
   "language": "python",
   "name": "python3"
  },
  "language_info": {
   "codemirror_mode": {
    "name": "ipython",
    "version": 3
   },
   "file_extension": ".py",
   "mimetype": "text/x-python",
   "name": "python",
   "nbconvert_exporter": "python",
   "pygments_lexer": "ipython3",
   "version": "3.12.3"
  }
 },
 "nbformat": 4,
 "nbformat_minor": 5
}
